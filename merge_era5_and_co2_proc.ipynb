{
 "cells": [
  {
   "cell_type": "code",
   "execution_count": 91,
   "id": "95d7316d",
   "metadata": {},
   "outputs": [],
   "source": [
    "import pandas as pd\n",
    "import xarray as xr\n",
    "import numpy as np\n",
    "import os, cdsapi\n",
    "\n",
    "\n",
    "from carbonpipeline.cli import _merge_unzipped\n",
    "from carbonpipeline.constants import *\n",
    "from carbonpipeline.processing_utils import *\n",
    "\n",
    "\n",
    "pd.set_option('display.width', 200)          \n",
    "pd.set_option('display.max_columns', None)    \n",
    "pd.set_option('display.expand_frame_repr', False) "
   ]
  },
  {
   "cell_type": "code",
   "execution_count": 92,
   "id": "241778c2",
   "metadata": {},
   "outputs": [],
   "source": [
    "df = pd.read_csv(\"data.csv\")"
   ]
  },
  {
   "cell_type": "markdown",
   "id": "c437fe69",
   "metadata": {},
   "source": [
    "# Request code for CO2"
   ]
  },
  {
   "cell_type": "code",
   "execution_count": null,
   "id": "dcd046b5",
   "metadata": {},
   "outputs": [
    {
     "name": "stderr",
     "output_type": "stream",
     "text": [
      "2025-06-06 13:41:38,327 INFO [2024-09-26T00:00:00] Watch our [Forum](https://forum.ecmwf.int/) for Announcements, news and other discussed topics.\n",
      "2025-06-06 13:41:38,732 INFO Request ID is ccd88653-edec-4bf0-ade8-7f7f9634a392\n",
      "2025-06-06 13:41:38,884 INFO status has been updated to accepted\n"
     ]
    }
   ],
   "source": [
    "dataset = \"satellite-carbon-dioxide\"\n",
    "request = {\n",
    "    \"processing_level\": [\"level_3\"],\n",
    "    \"variable\": \"xco2\",\n",
    "    \"sensor_and_algorithm\": \"merged_obs4mips\",\n",
    "    \"version\": [\"4_5\"]\n",
    "}\n",
    "\n",
    "client = cdsapi.Client()\n",
    "client.retrieve(dataset, request).download()"
   ]
  },
  {
   "cell_type": "markdown",
   "id": "0a01e20e",
   "metadata": {},
   "source": [
    "### Opening and displaying the corresponding NetCDF file"
   ]
  },
  {
   "cell_type": "code",
   "execution_count": null,
   "id": "5820ea81",
   "metadata": {},
   "outputs": [],
   "source": [
    "ds_co2 = xr.open_dataset(\"unzip/200301_202212-C3S-L3_XCO2-GHG_PRODUCTS-MERGED-MERGED-OBS4MIPS-MERGED-v4.5.nc\", engine=\"netcdf4\")\n",
    "df_co2 = ds_co2.isel(bnds=0, pressure=0).to_dataframe()"
   ]
  },
  {
   "cell_type": "code",
   "execution_count": null,
   "id": "dfd95475",
   "metadata": {},
   "outputs": [],
   "source": [
    "df_co2.loc[(slice(None), 47.5, 47.5)]"
   ]
  },
  {
   "cell_type": "markdown",
   "id": "2ab362e9",
   "metadata": {},
   "source": [
    "# Merging ERA5 NetCDF files"
   ]
  },
  {
   "cell_type": "code",
   "execution_count": null,
   "id": "3a080b11",
   "metadata": {},
   "outputs": [],
   "source": [
    "ds_era5 = _merge_unzipped([x[0] for x in os.walk(\"./datasets/unzip\")])\n",
    "df_era5 = ds_era5.to_dataframe()"
   ]
  },
  {
   "cell_type": "code",
   "execution_count": null,
   "id": "8a778018",
   "metadata": {},
   "outputs": [],
   "source": [
    "df_era5"
   ]
  },
  {
   "cell_type": "markdown",
   "id": "46379169",
   "metadata": {},
   "source": [
    "# Adding CO2 column to ERA5 dataframe"
   ]
  },
  {
   "cell_type": "markdown",
   "id": "4449013d",
   "metadata": {},
   "source": [
    "#### Work with df_era5 index without modifying it"
   ]
  },
  {
   "cell_type": "code",
   "execution_count": null,
   "id": "f18bc2a6",
   "metadata": {},
   "outputs": [],
   "source": [
    "\n",
    "era5_index = df_era5.index.to_frame(index=False).copy()"
   ]
  },
  {
   "cell_type": "code",
   "execution_count": null,
   "id": "5cd635d5",
   "metadata": {},
   "outputs": [],
   "source": [
    "era5_index"
   ]
  },
  {
   "cell_type": "markdown",
   "id": "a5ad05f3",
   "metadata": {},
   "source": [
    "#### Extract the month (YYYY-MM) from \"valide_time\""
   ]
  },
  {
   "cell_type": "code",
   "execution_count": null,
   "id": "26e34134",
   "metadata": {},
   "outputs": [],
   "source": [
    "era5_index[\"year_month\"] = era5_index[\"valid_time\"].dt.to_period(\"M\")"
   ]
  },
  {
   "cell_type": "code",
   "execution_count": null,
   "id": "bb412b09",
   "metadata": {},
   "outputs": [],
   "source": [
    "era5_index"
   ]
  },
  {
   "cell_type": "markdown",
   "id": "97505a3d",
   "metadata": {},
   "source": [
    "#### Concatenate the data with the index to recreate a flat DF"
   ]
  },
  {
   "cell_type": "code",
   "execution_count": null,
   "id": "e327dcf4",
   "metadata": {},
   "outputs": [],
   "source": [
    "df_era5_flat = df_era5.reset_index(drop=True)\n",
    "df_era5_temp = pd.concat([era5_index, df_era5_flat], axis=1)"
   ]
  },
  {
   "cell_type": "code",
   "execution_count": null,
   "id": "4bfbc680",
   "metadata": {},
   "outputs": [],
   "source": [
    "df_era5_temp"
   ]
  },
  {
   "cell_type": "markdown",
   "id": "89639cb4",
   "metadata": {},
   "source": [
    "#### Prepare df_co2"
   ]
  },
  {
   "cell_type": "code",
   "execution_count": null,
   "id": "6a24d04c",
   "metadata": {},
   "outputs": [],
   "source": [
    "df_co2_index_reset               = df_co2.reset_index()\n",
    "df_co2_index_reset[\"year_month\"] = pd.to_datetime(df_co2_index_reset[\"time\"]).dt.to_period(\"M\")"
   ]
  },
  {
   "cell_type": "code",
   "execution_count": null,
   "id": "f3865049",
   "metadata": {},
   "outputs": [],
   "source": [
    "df_co2_index_reset"
   ]
  },
  {
   "cell_type": "code",
   "execution_count": null,
   "id": "4481c32c",
   "metadata": {},
   "outputs": [],
   "source": [
    "df_co2         = df_co2[df_co2.columns.intersection([\"xco2\"])]\n",
    "df_co2[\"xco2\"] = df_co2[\"xco2\"].replace(np.float32(1e20), np.nan)"
   ]
  },
  {
   "cell_type": "markdown",
   "id": "efa80123",
   "metadata": {},
   "source": [
    "#### Proper fusion on month + lat/lon"
   ]
  },
  {
   "cell_type": "code",
   "execution_count": null,
   "id": "43d203a1",
   "metadata": {},
   "outputs": [],
   "source": [
    "df_era5_flat = df_era5.reset_index(drop=True)\n",
    "df_era5_temp = pd.concat([era5_index, df_era5_flat], axis=1)"
   ]
  },
  {
   "cell_type": "markdown",
   "id": "ddaa8590",
   "metadata": {},
   "source": [
    "##### Obtain available lat/lon in df_co2"
   ]
  },
  {
   "cell_type": "code",
   "execution_count": null,
   "id": "10cd23f7",
   "metadata": {},
   "outputs": [],
   "source": [
    "b_lats = df_co2[\"lat\"].unique()\n",
    "b_lons = df_co2[\"lon\"].unique()\n",
    "\n",
    "def match_to_closest(values, reference_points):\n",
    "    return np.array([reference_points[np.abs(reference_points - v).argmin()] for v in values])"
   ]
  },
  {
   "cell_type": "markdown",
   "id": "a7da07c1",
   "metadata": {},
   "source": [
    "##### Apply to df_era5_index"
   ]
  },
  {
   "cell_type": "code",
   "execution_count": null,
   "id": "6e909b93",
   "metadata": {},
   "outputs": [],
   "source": [
    "era5_index[\"latitude_rounded\"]  = match_to_closest(era5_index[\"latitude\"].values, b_lats)\n",
    "era5_index[\"longitude_rounded\"] = match_to_closest(era5_index[\"longitude\"].values, b_lons)"
   ]
  },
  {
   "cell_type": "code",
   "execution_count": null,
   "id": "f58702d4",
   "metadata": {},
   "outputs": [
    {
     "data": {
      "text/html": [
       "<div>\n",
       "<style scoped>\n",
       "    .dataframe tbody tr th:only-of-type {\n",
       "        vertical-align: middle;\n",
       "    }\n",
       "\n",
       "    .dataframe tbody tr th {\n",
       "        vertical-align: top;\n",
       "    }\n",
       "\n",
       "    .dataframe thead th {\n",
       "        text-align: right;\n",
       "    }\n",
       "</style>\n",
       "<table border=\"1\" class=\"dataframe\">\n",
       "  <thead>\n",
       "    <tr style=\"text-align: right;\">\n",
       "      <th></th>\n",
       "      <th>valid_time</th>\n",
       "      <th>latitude</th>\n",
       "      <th>longitude</th>\n",
       "      <th>year_month</th>\n",
       "      <th>latitude_rounded</th>\n",
       "      <th>longitude_rounded</th>\n",
       "    </tr>\n",
       "  </thead>\n",
       "  <tbody>\n",
       "    <tr>\n",
       "      <th>0</th>\n",
       "      <td>2003-03-01 00:00:00</td>\n",
       "      <td>90.0</td>\n",
       "      <td>-180.00</td>\n",
       "      <td>2003-03</td>\n",
       "      <td>87.5</td>\n",
       "      <td>-177.5</td>\n",
       "    </tr>\n",
       "    <tr>\n",
       "      <th>1</th>\n",
       "      <td>2003-03-01 00:00:00</td>\n",
       "      <td>90.0</td>\n",
       "      <td>-179.75</td>\n",
       "      <td>2003-03</td>\n",
       "      <td>87.5</td>\n",
       "      <td>-177.5</td>\n",
       "    </tr>\n",
       "    <tr>\n",
       "      <th>2</th>\n",
       "      <td>2003-03-01 00:00:00</td>\n",
       "      <td>90.0</td>\n",
       "      <td>-179.50</td>\n",
       "      <td>2003-03</td>\n",
       "      <td>87.5</td>\n",
       "      <td>-177.5</td>\n",
       "    </tr>\n",
       "    <tr>\n",
       "      <th>3</th>\n",
       "      <td>2003-03-01 00:00:00</td>\n",
       "      <td>90.0</td>\n",
       "      <td>-179.25</td>\n",
       "      <td>2003-03</td>\n",
       "      <td>87.5</td>\n",
       "      <td>-177.5</td>\n",
       "    </tr>\n",
       "    <tr>\n",
       "      <th>4</th>\n",
       "      <td>2003-03-01 00:00:00</td>\n",
       "      <td>90.0</td>\n",
       "      <td>-179.00</td>\n",
       "      <td>2003-03</td>\n",
       "      <td>87.5</td>\n",
       "      <td>-177.5</td>\n",
       "    </tr>\n",
       "    <tr>\n",
       "      <th>...</th>\n",
       "      <td>...</td>\n",
       "      <td>...</td>\n",
       "      <td>...</td>\n",
       "      <td>...</td>\n",
       "      <td>...</td>\n",
       "      <td>...</td>\n",
       "    </tr>\n",
       "    <tr>\n",
       "      <th>8305915</th>\n",
       "      <td>2003-03-01 07:00:00</td>\n",
       "      <td>-90.0</td>\n",
       "      <td>178.75</td>\n",
       "      <td>2003-03</td>\n",
       "      <td>-87.5</td>\n",
       "      <td>177.5</td>\n",
       "    </tr>\n",
       "    <tr>\n",
       "      <th>8305916</th>\n",
       "      <td>2003-03-01 07:00:00</td>\n",
       "      <td>-90.0</td>\n",
       "      <td>179.00</td>\n",
       "      <td>2003-03</td>\n",
       "      <td>-87.5</td>\n",
       "      <td>177.5</td>\n",
       "    </tr>\n",
       "    <tr>\n",
       "      <th>8305917</th>\n",
       "      <td>2003-03-01 07:00:00</td>\n",
       "      <td>-90.0</td>\n",
       "      <td>179.25</td>\n",
       "      <td>2003-03</td>\n",
       "      <td>-87.5</td>\n",
       "      <td>177.5</td>\n",
       "    </tr>\n",
       "    <tr>\n",
       "      <th>8305918</th>\n",
       "      <td>2003-03-01 07:00:00</td>\n",
       "      <td>-90.0</td>\n",
       "      <td>179.50</td>\n",
       "      <td>2003-03</td>\n",
       "      <td>-87.5</td>\n",
       "      <td>177.5</td>\n",
       "    </tr>\n",
       "    <tr>\n",
       "      <th>8305919</th>\n",
       "      <td>2003-03-01 07:00:00</td>\n",
       "      <td>-90.0</td>\n",
       "      <td>179.75</td>\n",
       "      <td>2003-03</td>\n",
       "      <td>-87.5</td>\n",
       "      <td>177.5</td>\n",
       "    </tr>\n",
       "  </tbody>\n",
       "</table>\n",
       "<p>8305920 rows × 6 columns</p>\n",
       "</div>"
      ],
      "text/plain": [
       "                 valid_time  latitude  longitude year_month  latitude_rounded  longitude_rounded\n",
       "0       2003-03-01 00:00:00      90.0    -180.00    2003-03              87.5             -177.5\n",
       "1       2003-03-01 00:00:00      90.0    -179.75    2003-03              87.5             -177.5\n",
       "2       2003-03-01 00:00:00      90.0    -179.50    2003-03              87.5             -177.5\n",
       "3       2003-03-01 00:00:00      90.0    -179.25    2003-03              87.5             -177.5\n",
       "4       2003-03-01 00:00:00      90.0    -179.00    2003-03              87.5             -177.5\n",
       "...                     ...       ...        ...        ...               ...                ...\n",
       "8305915 2003-03-01 07:00:00     -90.0     178.75    2003-03             -87.5              177.5\n",
       "8305916 2003-03-01 07:00:00     -90.0     179.00    2003-03             -87.5              177.5\n",
       "8305917 2003-03-01 07:00:00     -90.0     179.25    2003-03             -87.5              177.5\n",
       "8305918 2003-03-01 07:00:00     -90.0     179.50    2003-03             -87.5              177.5\n",
       "8305919 2003-03-01 07:00:00     -90.0     179.75    2003-03             -87.5              177.5\n",
       "\n",
       "[8305920 rows x 6 columns]"
      ]
     },
     "execution_count": 90,
     "metadata": {},
     "output_type": "execute_result"
    }
   ],
   "source": [
    "era5_index"
   ]
  },
  {
   "cell_type": "markdown",
   "id": "5d86ca39",
   "metadata": {},
   "source": [
    "##### Fuse month + approximated coordinates"
   ]
  },
  {
   "cell_type": "code",
   "execution_count": null,
   "id": "0a44fe42",
   "metadata": {},
   "outputs": [],
   "source": [
    "df_era5_temp[\"year_month\"] = era5_index[\"valid_time\"].dt.to_period(\"M\")\n",
    "df_era5_temp[\"latitude_rounded\"]  = era5_index[\"latitude_rounded\"]\n",
    "df_era5_temp[\"longitude_rounded\"] = era5_index[\"longitude_rounded\"]\n",
    "\n",
    "df_co2[\"year_month\"] = pd.to_datetime(df_co2[\"time\"]).dt.to_period(\"M\")"
   ]
  },
  {
   "cell_type": "code",
   "execution_count": null,
   "id": "ff5fa8f4",
   "metadata": {},
   "outputs": [
    {
     "data": {
      "text/html": [
       "<div>\n",
       "<style scoped>\n",
       "    .dataframe tbody tr th:only-of-type {\n",
       "        vertical-align: middle;\n",
       "    }\n",
       "\n",
       "    .dataframe tbody tr th {\n",
       "        vertical-align: top;\n",
       "    }\n",
       "\n",
       "    .dataframe thead th {\n",
       "        text-align: right;\n",
       "    }\n",
       "</style>\n",
       "<table border=\"1\" class=\"dataframe\">\n",
       "  <thead>\n",
       "    <tr style=\"text-align: right;\">\n",
       "      <th></th>\n",
       "      <th>valid_time</th>\n",
       "      <th>latitude</th>\n",
       "      <th>longitude</th>\n",
       "      <th>year_month</th>\n",
       "      <th>latitude_rounded</th>\n",
       "      <th>longitude_rounded</th>\n",
       "      <th>sp</th>\n",
       "      <th>t2m</th>\n",
       "      <th>xco2</th>\n",
       "    </tr>\n",
       "  </thead>\n",
       "  <tbody>\n",
       "    <tr>\n",
       "      <th>0</th>\n",
       "      <td>2003-03-01 00:00:00</td>\n",
       "      <td>90.0</td>\n",
       "      <td>-180.00</td>\n",
       "      <td>2003-03</td>\n",
       "      <td>87.5</td>\n",
       "      <td>-177.5</td>\n",
       "      <td>101938.593750</td>\n",
       "      <td>241.047729</td>\n",
       "      <td>NaN</td>\n",
       "    </tr>\n",
       "    <tr>\n",
       "      <th>1</th>\n",
       "      <td>2003-03-01 00:00:00</td>\n",
       "      <td>90.0</td>\n",
       "      <td>-179.75</td>\n",
       "      <td>2003-03</td>\n",
       "      <td>87.5</td>\n",
       "      <td>-177.5</td>\n",
       "      <td>101938.593750</td>\n",
       "      <td>241.047729</td>\n",
       "      <td>NaN</td>\n",
       "    </tr>\n",
       "    <tr>\n",
       "      <th>2</th>\n",
       "      <td>2003-03-01 00:00:00</td>\n",
       "      <td>90.0</td>\n",
       "      <td>-179.50</td>\n",
       "      <td>2003-03</td>\n",
       "      <td>87.5</td>\n",
       "      <td>-177.5</td>\n",
       "      <td>101938.593750</td>\n",
       "      <td>241.047729</td>\n",
       "      <td>NaN</td>\n",
       "    </tr>\n",
       "    <tr>\n",
       "      <th>3</th>\n",
       "      <td>2003-03-01 00:00:00</td>\n",
       "      <td>90.0</td>\n",
       "      <td>-179.25</td>\n",
       "      <td>2003-03</td>\n",
       "      <td>87.5</td>\n",
       "      <td>-177.5</td>\n",
       "      <td>101938.593750</td>\n",
       "      <td>241.047729</td>\n",
       "      <td>NaN</td>\n",
       "    </tr>\n",
       "    <tr>\n",
       "      <th>4</th>\n",
       "      <td>2003-03-01 00:00:00</td>\n",
       "      <td>90.0</td>\n",
       "      <td>-179.00</td>\n",
       "      <td>2003-03</td>\n",
       "      <td>87.5</td>\n",
       "      <td>-177.5</td>\n",
       "      <td>101938.593750</td>\n",
       "      <td>241.047729</td>\n",
       "      <td>NaN</td>\n",
       "    </tr>\n",
       "    <tr>\n",
       "      <th>...</th>\n",
       "      <td>...</td>\n",
       "      <td>...</td>\n",
       "      <td>...</td>\n",
       "      <td>...</td>\n",
       "      <td>...</td>\n",
       "      <td>...</td>\n",
       "      <td>...</td>\n",
       "      <td>...</td>\n",
       "      <td>...</td>\n",
       "    </tr>\n",
       "    <tr>\n",
       "      <th>8305915</th>\n",
       "      <td>2003-03-01 07:00:00</td>\n",
       "      <td>-90.0</td>\n",
       "      <td>178.75</td>\n",
       "      <td>2003-03</td>\n",
       "      <td>-87.5</td>\n",
       "      <td>177.5</td>\n",
       "      <td>69759.601562</td>\n",
       "      <td>238.342026</td>\n",
       "      <td>NaN</td>\n",
       "    </tr>\n",
       "    <tr>\n",
       "      <th>8305916</th>\n",
       "      <td>2003-03-01 07:00:00</td>\n",
       "      <td>-90.0</td>\n",
       "      <td>179.00</td>\n",
       "      <td>2003-03</td>\n",
       "      <td>-87.5</td>\n",
       "      <td>177.5</td>\n",
       "      <td>69759.601562</td>\n",
       "      <td>238.342026</td>\n",
       "      <td>NaN</td>\n",
       "    </tr>\n",
       "    <tr>\n",
       "      <th>8305917</th>\n",
       "      <td>2003-03-01 07:00:00</td>\n",
       "      <td>-90.0</td>\n",
       "      <td>179.25</td>\n",
       "      <td>2003-03</td>\n",
       "      <td>-87.5</td>\n",
       "      <td>177.5</td>\n",
       "      <td>69759.601562</td>\n",
       "      <td>238.342026</td>\n",
       "      <td>NaN</td>\n",
       "    </tr>\n",
       "    <tr>\n",
       "      <th>8305918</th>\n",
       "      <td>2003-03-01 07:00:00</td>\n",
       "      <td>-90.0</td>\n",
       "      <td>179.50</td>\n",
       "      <td>2003-03</td>\n",
       "      <td>-87.5</td>\n",
       "      <td>177.5</td>\n",
       "      <td>69759.601562</td>\n",
       "      <td>238.342026</td>\n",
       "      <td>NaN</td>\n",
       "    </tr>\n",
       "    <tr>\n",
       "      <th>8305919</th>\n",
       "      <td>2003-03-01 07:00:00</td>\n",
       "      <td>-90.0</td>\n",
       "      <td>179.75</td>\n",
       "      <td>2003-03</td>\n",
       "      <td>-87.5</td>\n",
       "      <td>177.5</td>\n",
       "      <td>69759.601562</td>\n",
       "      <td>238.342026</td>\n",
       "      <td>NaN</td>\n",
       "    </tr>\n",
       "  </tbody>\n",
       "</table>\n",
       "<p>8305920 rows × 9 columns</p>\n",
       "</div>"
      ],
      "text/plain": [
       "                 valid_time  latitude  longitude year_month  latitude_rounded  longitude_rounded             sp         t2m  xco2\n",
       "0       2003-03-01 00:00:00      90.0    -180.00    2003-03              87.5             -177.5  101938.593750  241.047729   NaN\n",
       "1       2003-03-01 00:00:00      90.0    -179.75    2003-03              87.5             -177.5  101938.593750  241.047729   NaN\n",
       "2       2003-03-01 00:00:00      90.0    -179.50    2003-03              87.5             -177.5  101938.593750  241.047729   NaN\n",
       "3       2003-03-01 00:00:00      90.0    -179.25    2003-03              87.5             -177.5  101938.593750  241.047729   NaN\n",
       "4       2003-03-01 00:00:00      90.0    -179.00    2003-03              87.5             -177.5  101938.593750  241.047729   NaN\n",
       "...                     ...       ...        ...        ...               ...                ...            ...         ...   ...\n",
       "8305915 2003-03-01 07:00:00     -90.0     178.75    2003-03             -87.5              177.5   69759.601562  238.342026   NaN\n",
       "8305916 2003-03-01 07:00:00     -90.0     179.00    2003-03             -87.5              177.5   69759.601562  238.342026   NaN\n",
       "8305917 2003-03-01 07:00:00     -90.0     179.25    2003-03             -87.5              177.5   69759.601562  238.342026   NaN\n",
       "8305918 2003-03-01 07:00:00     -90.0     179.50    2003-03             -87.5              177.5   69759.601562  238.342026   NaN\n",
       "8305919 2003-03-01 07:00:00     -90.0     179.75    2003-03             -87.5              177.5   69759.601562  238.342026   NaN\n",
       "\n",
       "[8305920 rows x 9 columns]"
      ]
     },
     "execution_count": 89,
     "metadata": {},
     "output_type": "execute_result"
    }
   ],
   "source": [
    "df_era5_temp"
   ]
  },
  {
   "cell_type": "markdown",
   "id": "1d6552e6",
   "metadata": {},
   "source": [
    "##### Fuse"
   ]
  },
  {
   "cell_type": "code",
   "execution_count": null,
   "id": "645b302b",
   "metadata": {},
   "outputs": [],
   "source": [
    "merged_nearest = df_era5_temp.merge(\n",
    "    df_co2,\n",
    "    left_on=[\"year_month\", \"latitude_rounded\", \"longitude_rounded\"],\n",
    "    right_on=[\"year_month\", \"lat\", \"lon\"],\n",
    "    how=\"left\"\n",
    ")"
   ]
  },
  {
   "cell_type": "code",
   "execution_count": null,
   "id": "40456a70",
   "metadata": {},
   "outputs": [],
   "source": [
    "df_era5[\"xco2\"] = merged_nearest[\"xco2_y\"].values"
   ]
  },
  {
   "cell_type": "markdown",
   "id": "94907f72",
   "metadata": {},
   "source": [
    "# Evaluate and compare"
   ]
  },
  {
   "cell_type": "code",
   "execution_count": null,
   "id": "90b96815",
   "metadata": {},
   "outputs": [
    {
     "data": {
      "text/html": [
       "<div>\n",
       "<style scoped>\n",
       "    .dataframe tbody tr th:only-of-type {\n",
       "        vertical-align: middle;\n",
       "    }\n",
       "\n",
       "    .dataframe tbody tr th {\n",
       "        vertical-align: top;\n",
       "    }\n",
       "\n",
       "    .dataframe thead th {\n",
       "        text-align: right;\n",
       "    }\n",
       "</style>\n",
       "<table border=\"1\" class=\"dataframe\">\n",
       "  <thead>\n",
       "    <tr style=\"text-align: right;\">\n",
       "      <th></th>\n",
       "      <th>sp</th>\n",
       "      <th>t2m</th>\n",
       "      <th>xco2</th>\n",
       "    </tr>\n",
       "    <tr>\n",
       "      <th>valid_time</th>\n",
       "      <th></th>\n",
       "      <th></th>\n",
       "      <th></th>\n",
       "    </tr>\n",
       "  </thead>\n",
       "  <tbody>\n",
       "    <tr>\n",
       "      <th>2003-03-01 00:00:00</th>\n",
       "      <td>103843.593750</td>\n",
       "      <td>261.188354</td>\n",
       "      <td>0.000378</td>\n",
       "    </tr>\n",
       "    <tr>\n",
       "      <th>2003-03-01 01:00:00</th>\n",
       "      <td>103870.406250</td>\n",
       "      <td>260.427399</td>\n",
       "      <td>0.000378</td>\n",
       "    </tr>\n",
       "    <tr>\n",
       "      <th>2003-03-01 02:00:00</th>\n",
       "      <td>103846.648438</td>\n",
       "      <td>260.079407</td>\n",
       "      <td>0.000378</td>\n",
       "    </tr>\n",
       "    <tr>\n",
       "      <th>2003-03-01 03:00:00</th>\n",
       "      <td>103898.492188</td>\n",
       "      <td>260.526367</td>\n",
       "      <td>0.000378</td>\n",
       "    </tr>\n",
       "    <tr>\n",
       "      <th>2003-03-01 04:00:00</th>\n",
       "      <td>103854.531250</td>\n",
       "      <td>261.259521</td>\n",
       "      <td>0.000378</td>\n",
       "    </tr>\n",
       "    <tr>\n",
       "      <th>2003-03-01 05:00:00</th>\n",
       "      <td>103901.578125</td>\n",
       "      <td>264.013062</td>\n",
       "      <td>0.000378</td>\n",
       "    </tr>\n",
       "    <tr>\n",
       "      <th>2003-03-01 06:00:00</th>\n",
       "      <td>103910.898438</td>\n",
       "      <td>263.359314</td>\n",
       "      <td>0.000378</td>\n",
       "    </tr>\n",
       "    <tr>\n",
       "      <th>2003-03-01 07:00:00</th>\n",
       "      <td>103914.601562</td>\n",
       "      <td>263.777588</td>\n",
       "      <td>0.000378</td>\n",
       "    </tr>\n",
       "  </tbody>\n",
       "</table>\n",
       "</div>"
      ],
      "text/plain": [
       "                                sp         t2m      xco2\n",
       "valid_time                                              \n",
       "2003-03-01 00:00:00  103843.593750  261.188354  0.000378\n",
       "2003-03-01 01:00:00  103870.406250  260.427399  0.000378\n",
       "2003-03-01 02:00:00  103846.648438  260.079407  0.000378\n",
       "2003-03-01 03:00:00  103898.492188  260.526367  0.000378\n",
       "2003-03-01 04:00:00  103854.531250  261.259521  0.000378\n",
       "2003-03-01 05:00:00  103901.578125  264.013062  0.000378\n",
       "2003-03-01 06:00:00  103910.898438  263.359314  0.000378\n",
       "2003-03-01 07:00:00  103914.601562  263.777588  0.000378"
      ]
     },
     "execution_count": 81,
     "metadata": {},
     "output_type": "execute_result"
    }
   ],
   "source": [
    "df_era5.loc[(slice(None), 47.5, 47.5)]"
   ]
  },
  {
   "cell_type": "code",
   "execution_count": null,
   "id": "d84b2ccb",
   "metadata": {},
   "outputs": [
    {
     "data": {
      "text/html": [
       "<div>\n",
       "<style scoped>\n",
       "    .dataframe tbody tr th:only-of-type {\n",
       "        vertical-align: middle;\n",
       "    }\n",
       "\n",
       "    .dataframe tbody tr th {\n",
       "        vertical-align: top;\n",
       "    }\n",
       "\n",
       "    .dataframe thead th {\n",
       "        text-align: right;\n",
       "    }\n",
       "</style>\n",
       "<table border=\"1\" class=\"dataframe\">\n",
       "  <thead>\n",
       "    <tr style=\"text-align: right;\">\n",
       "      <th></th>\n",
       "      <th>sp</th>\n",
       "      <th>t2m</th>\n",
       "      <th>xco2</th>\n",
       "    </tr>\n",
       "    <tr>\n",
       "      <th>valid_time</th>\n",
       "      <th></th>\n",
       "      <th></th>\n",
       "      <th></th>\n",
       "    </tr>\n",
       "  </thead>\n",
       "  <tbody>\n",
       "    <tr>\n",
       "      <th>2003-03-01 00:00:00</th>\n",
       "      <td>103457.593750</td>\n",
       "      <td>258.496948</td>\n",
       "      <td>0.000378</td>\n",
       "    </tr>\n",
       "    <tr>\n",
       "      <th>2003-03-01 01:00:00</th>\n",
       "      <td>103460.406250</td>\n",
       "      <td>258.802399</td>\n",
       "      <td>0.000378</td>\n",
       "    </tr>\n",
       "    <tr>\n",
       "      <th>2003-03-01 02:00:00</th>\n",
       "      <td>103412.648438</td>\n",
       "      <td>258.823547</td>\n",
       "      <td>0.000378</td>\n",
       "    </tr>\n",
       "    <tr>\n",
       "      <th>2003-03-01 03:00:00</th>\n",
       "      <td>103456.492188</td>\n",
       "      <td>258.866211</td>\n",
       "      <td>0.000378</td>\n",
       "    </tr>\n",
       "    <tr>\n",
       "      <th>2003-03-01 04:00:00</th>\n",
       "      <td>103383.531250</td>\n",
       "      <td>258.745850</td>\n",
       "      <td>0.000378</td>\n",
       "    </tr>\n",
       "    <tr>\n",
       "      <th>2003-03-01 05:00:00</th>\n",
       "      <td>103416.578125</td>\n",
       "      <td>261.679077</td>\n",
       "      <td>0.000378</td>\n",
       "    </tr>\n",
       "    <tr>\n",
       "      <th>2003-03-01 06:00:00</th>\n",
       "      <td>103417.898438</td>\n",
       "      <td>261.140564</td>\n",
       "      <td>0.000378</td>\n",
       "    </tr>\n",
       "    <tr>\n",
       "      <th>2003-03-01 07:00:00</th>\n",
       "      <td>103446.601562</td>\n",
       "      <td>260.525635</td>\n",
       "      <td>0.000378</td>\n",
       "    </tr>\n",
       "  </tbody>\n",
       "</table>\n",
       "</div>"
      ],
      "text/plain": [
       "                                sp         t2m      xco2\n",
       "valid_time                                              \n",
       "2003-03-01 00:00:00  103457.593750  258.496948  0.000378\n",
       "2003-03-01 01:00:00  103460.406250  258.802399  0.000378\n",
       "2003-03-01 02:00:00  103412.648438  258.823547  0.000378\n",
       "2003-03-01 03:00:00  103456.492188  258.866211  0.000378\n",
       "2003-03-01 04:00:00  103383.531250  258.745850  0.000378\n",
       "2003-03-01 05:00:00  103416.578125  261.679077  0.000378\n",
       "2003-03-01 06:00:00  103417.898438  261.140564  0.000378\n",
       "2003-03-01 07:00:00  103446.601562  260.525635  0.000378"
      ]
     },
     "execution_count": 88,
     "metadata": {},
     "output_type": "execute_result"
    }
   ],
   "source": [
    "df_era5.loc[(slice(None), 49.5, 46.5)]"
   ]
  }
 ],
 "metadata": {
  "kernelspec": {
   "display_name": "cdsenv",
   "language": "python",
   "name": "python3"
  },
  "language_info": {
   "codemirror_mode": {
    "name": "ipython",
    "version": 3
   },
   "file_extension": ".py",
   "mimetype": "text/x-python",
   "name": "python",
   "nbconvert_exporter": "python",
   "pygments_lexer": "ipython3",
   "version": "3.11.13"
  }
 },
 "nbformat": 4,
 "nbformat_minor": 5
}
